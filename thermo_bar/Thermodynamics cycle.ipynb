{
 "cells": [
  {
   "cell_type": "markdown",
   "metadata": {},
   "source": [
    "Such measurements with free enegy integrations seems a little bit to hard and seems to be not possible to using PC, there is strong need of having cluster."
   ]
  },
  {
   "cell_type": "code",
   "execution_count": 1,
   "metadata": {
    "collapsed": true
   },
   "outputs": [],
   "source": [
    "selected = [\"MEOH\",\"ETOH\",\"PRO2\",\"BENZ\", \"PHEN\", \"OCOH\",\"BALD\"]"
   ]
  },
  {
   "cell_type": "code",
   "execution_count": 1,
   "metadata": {
    "collapsed": false,
    "scrolled": false
   },
   "outputs": [],
   "source": [
    "import gromacs\n",
    "import nglview\n",
    "from gromacs.cbook import edit_mdp\n"
   ]
  },
  {
   "cell_type": "markdown",
   "metadata": {},
   "source": [
    "Firstly let's calculate the free energy of creation of moleucle in vaccum:"
   ]
  },
  {
   "cell_type": "code",
   "execution_count": null,
   "metadata": {
    "collapsed": true
   },
   "outputs": [],
   "source": [
    "gromacs.insert_moleculest_moleculesert_moleculessert_molecules()"
   ]
  },
  {
   "cell_type": "code",
   "execution_count": null,
   "metadata": {
    "collapsed": true
   },
   "outputs": [],
   "source": [
    "gromacs.grompp(f=\"em.mdp\",c=\"box.gro\",p=\"topol.top\",o=\"em.tpr\")\n",
    "gromacs.mdrun(deffnm=\"em\")\n",
    "gromacs.grompp(f=\"nvt.mdp\",c=\"em.gro\",p=\"topol.top\",o=\"2_nvt.tpr\")\n",
    "gromacs.mdrun(deffnm=\"2_nvt\")\n",
    "gromacs.grompp(f=\"npt.mdp\",c=\"2_nvt.gro\",p=\"topol.top\",o=\"3_npt.tpr\")\n",
    "gromacs.mdrun(deffnm=\"3_npt\")\n",
    "nglview.show_structure_file(\"3_npt.gro\")"
   ]
  },
  {
   "cell_type": "code",
   "execution_count": 4,
   "metadata": {
    "collapsed": false
   },
   "outputs": [
    {
     "ename": "GromacsError",
     "evalue": "[Errno 1] Gromacs tool failed\nCommand invocation: gmx bar -oi -o -f 4_run_v*.xvg",
     "output_type": "error",
     "traceback": [
      "\u001b[1;31m---------------------------------------------------------------------------\u001b[0m",
      "\u001b[1;31mGromacsError\u001b[0m                              Traceback (most recent call last)",
      "\u001b[1;32m<ipython-input-4-32b7143eafaf>\u001b[0m in \u001b[0;36m<module>\u001b[1;34m()\u001b[0m\n\u001b[1;32m----> 1\u001b[1;33m \u001b[0m_\u001b[0m\u001b[1;33m,\u001b[0m \u001b[0moutput\u001b[0m\u001b[1;33m,\u001b[0m \u001b[0m_\u001b[0m \u001b[1;33m=\u001b[0m \u001b[0mgromacs\u001b[0m\u001b[1;33m.\u001b[0m\u001b[0mbar\u001b[0m\u001b[1;33m(\u001b[0m\u001b[0mf\u001b[0m\u001b[1;33m=\u001b[0m\u001b[1;34m\"4_run_v*.xvg\"\u001b[0m\u001b[1;33m,\u001b[0m \u001b[0mo\u001b[0m\u001b[1;33m=\u001b[0m\u001b[0mTrue\u001b[0m\u001b[1;33m,\u001b[0m\u001b[0moi\u001b[0m\u001b[1;33m=\u001b[0m\u001b[0mTrue\u001b[0m\u001b[1;33m,\u001b[0m\u001b[0mstdout\u001b[0m\u001b[1;33m=\u001b[0m\u001b[0mFalse\u001b[0m\u001b[1;33m)\u001b[0m\u001b[1;33m\u001b[0m\u001b[0m\n\u001b[0m\u001b[0;32m      2\u001b[0m \u001b[1;32mprint\u001b[0m\u001b[1;33m(\u001b[0m\u001b[0moutput\u001b[0m\u001b[1;33m)\u001b[0m\u001b[1;33m\u001b[0m\u001b[0m\n",
      "\u001b[1;32m/home/piskorz/Programs/miniconda2/lib/python2.7/site-packages/GromacsWrapper-0.7.0-py2.7.egg/gromacs/core.pyc\u001b[0m in \u001b[0;36m__call__\u001b[1;34m(self, *args, **kwargs)\u001b[0m\n\u001b[0;32m    379\u001b[0m            \u001b[1;33m(\u001b[0m\u001b[0mTODO\u001b[0m\u001b[1;33m:\u001b[0m \u001b[0mexample\u001b[0m \u001b[1;32mfor\u001b[0m \u001b[0mchaining\u001b[0m \u001b[0mcommands\u001b[0m\u001b[1;33m)\u001b[0m\u001b[1;33m\u001b[0m\u001b[0m\n\u001b[0;32m    380\u001b[0m         \"\"\"\n\u001b[1;32m--> 381\u001b[1;33m         \u001b[1;32mreturn\u001b[0m \u001b[0mself\u001b[0m\u001b[1;33m.\u001b[0m\u001b[0mrun\u001b[0m\u001b[1;33m(\u001b[0m\u001b[1;33m*\u001b[0m\u001b[0margs\u001b[0m\u001b[1;33m,\u001b[0m \u001b[1;33m**\u001b[0m\u001b[0mkwargs\u001b[0m\u001b[1;33m)\u001b[0m\u001b[1;33m\u001b[0m\u001b[0m\n\u001b[0m\u001b[0;32m    382\u001b[0m \u001b[1;33m\u001b[0m\u001b[0m\n\u001b[0;32m    383\u001b[0m \u001b[1;33m\u001b[0m\u001b[0m\n",
      "\u001b[1;32m/home/piskorz/Programs/miniconda2/lib/python2.7/site-packages/GromacsWrapper-0.7.0-py2.7.egg/gromacs/core.pyc\u001b[0m in \u001b[0;36mrun\u001b[1;34m(self, *args, **kwargs)\u001b[0m\n\u001b[0;32m    158\u001b[0m         \u001b[1;34m\"\"\"Run the command; args/kwargs are added or replace the ones given to the constructor.\"\"\"\u001b[0m\u001b[1;33m\u001b[0m\u001b[0m\n\u001b[0;32m    159\u001b[0m         \u001b[0m_args\u001b[0m\u001b[1;33m,\u001b[0m \u001b[0m_kwargs\u001b[0m \u001b[1;33m=\u001b[0m \u001b[0mself\u001b[0m\u001b[1;33m.\u001b[0m\u001b[0m_combine_arglist\u001b[0m\u001b[1;33m(\u001b[0m\u001b[0margs\u001b[0m\u001b[1;33m,\u001b[0m \u001b[0mkwargs\u001b[0m\u001b[1;33m)\u001b[0m\u001b[1;33m\u001b[0m\u001b[0m\n\u001b[1;32m--> 160\u001b[1;33m         \u001b[0mresults\u001b[0m\u001b[1;33m,\u001b[0m \u001b[0mp\u001b[0m \u001b[1;33m=\u001b[0m \u001b[0mself\u001b[0m\u001b[1;33m.\u001b[0m\u001b[0m_run_command\u001b[0m\u001b[1;33m(\u001b[0m\u001b[1;33m*\u001b[0m\u001b[0m_args\u001b[0m\u001b[1;33m,\u001b[0m \u001b[1;33m**\u001b[0m\u001b[0m_kwargs\u001b[0m\u001b[1;33m)\u001b[0m\u001b[1;33m\u001b[0m\u001b[0m\n\u001b[0m\u001b[0;32m    161\u001b[0m         \u001b[1;32mreturn\u001b[0m \u001b[0mresults\u001b[0m\u001b[1;33m\u001b[0m\u001b[0m\n\u001b[0;32m    162\u001b[0m \u001b[1;33m\u001b[0m\u001b[0m\n",
      "\u001b[1;32m/home/piskorz/Programs/miniconda2/lib/python2.7/site-packages/GromacsWrapper-0.7.0-py2.7.egg/gromacs/core.pyc\u001b[0m in \u001b[0;36m_run_command\u001b[1;34m(self, *args, **kwargs)\u001b[0m\n\u001b[0;32m    592\u001b[0m         \u001b[1;34m\"\"\"Execute the gromacs command; see the docs for __call__.\"\"\"\u001b[0m\u001b[1;33m\u001b[0m\u001b[0m\n\u001b[0;32m    593\u001b[0m         \u001b[0mresult\u001b[0m\u001b[1;33m,\u001b[0m \u001b[0mp\u001b[0m \u001b[1;33m=\u001b[0m \u001b[0msuper\u001b[0m\u001b[1;33m(\u001b[0m\u001b[0mGromacsCommand\u001b[0m\u001b[1;33m,\u001b[0m \u001b[0mself\u001b[0m\u001b[1;33m)\u001b[0m\u001b[1;33m.\u001b[0m\u001b[0m_run_command\u001b[0m\u001b[1;33m(\u001b[0m\u001b[1;33m*\u001b[0m\u001b[0margs\u001b[0m\u001b[1;33m,\u001b[0m \u001b[1;33m**\u001b[0m\u001b[0mkwargs\u001b[0m\u001b[1;33m)\u001b[0m\u001b[1;33m\u001b[0m\u001b[0m\n\u001b[1;32m--> 594\u001b[1;33m         \u001b[0mself\u001b[0m\u001b[1;33m.\u001b[0m\u001b[0mcheck_failure\u001b[0m\u001b[1;33m(\u001b[0m\u001b[0mresult\u001b[0m\u001b[1;33m,\u001b[0m \u001b[0mcommand_string\u001b[0m\u001b[1;33m=\u001b[0m\u001b[0mp\u001b[0m\u001b[1;33m.\u001b[0m\u001b[0mcommand_string\u001b[0m\u001b[1;33m)\u001b[0m\u001b[1;33m\u001b[0m\u001b[0m\n\u001b[0m\u001b[0;32m    595\u001b[0m         \u001b[1;32mreturn\u001b[0m \u001b[0mresult\u001b[0m\u001b[1;33m,\u001b[0m \u001b[0mp\u001b[0m\u001b[1;33m\u001b[0m\u001b[0m\n\u001b[0;32m    596\u001b[0m \u001b[1;33m\u001b[0m\u001b[0m\n",
      "\u001b[1;32m/home/piskorz/Programs/miniconda2/lib/python2.7/site-packages/GromacsWrapper-0.7.0-py2.7.egg/gromacs/core.pyc\u001b[0m in \u001b[0;36mcheck_failure\u001b[1;34m(self, result, msg, command_string)\u001b[0m\n\u001b[0;32m    547\u001b[0m                     formatted_message)\n\u001b[0;32m    548\u001b[0m             \u001b[1;32mif\u001b[0m \u001b[0mself\u001b[0m\u001b[1;33m.\u001b[0m\u001b[0mfailuremode\u001b[0m \u001b[1;33m==\u001b[0m \u001b[1;34m'raise'\u001b[0m\u001b[1;33m:\u001b[0m\u001b[1;33m\u001b[0m\u001b[0m\n\u001b[1;32m--> 549\u001b[1;33m                 \u001b[1;32mraise\u001b[0m \u001b[0mGromacsError\u001b[0m\u001b[1;33m(\u001b[0m\u001b[0mrc\u001b[0m\u001b[1;33m,\u001b[0m \u001b[0mmsg\u001b[0m\u001b[1;33m)\u001b[0m\u001b[1;33m\u001b[0m\u001b[0m\n\u001b[0m\u001b[0;32m    550\u001b[0m             \u001b[1;32melif\u001b[0m \u001b[0mself\u001b[0m\u001b[1;33m.\u001b[0m\u001b[0mfailuremode\u001b[0m \u001b[1;33m==\u001b[0m \u001b[1;34m'warn'\u001b[0m\u001b[1;33m:\u001b[0m\u001b[1;33m\u001b[0m\u001b[0m\n\u001b[0;32m    551\u001b[0m                 \u001b[0mwarnings\u001b[0m\u001b[1;33m.\u001b[0m\u001b[0mwarn\u001b[0m\u001b[1;33m(\u001b[0m\u001b[0mmsg\u001b[0m \u001b[1;33m+\u001b[0m \u001b[1;34m'\\nError code: {0!r}\\n'\u001b[0m\u001b[1;33m.\u001b[0m\u001b[0mformat\u001b[0m\u001b[1;33m(\u001b[0m\u001b[0mrc\u001b[0m\u001b[1;33m)\u001b[0m\u001b[1;33m,\u001b[0m \u001b[0mcategory\u001b[0m\u001b[1;33m=\u001b[0m\u001b[0mGromacsFailureWarning\u001b[0m\u001b[1;33m)\u001b[0m\u001b[1;33m\u001b[0m\u001b[0m\n",
      "\u001b[1;31mGromacsError\u001b[0m: [Errno 1] Gromacs tool failed\nCommand invocation: gmx bar -oi -o -f 4_run_v*.xvg"
     ]
    }
   ],
   "source": []
  },
  {
   "cell_type": "markdown",
   "metadata": {},
   "source": [
    "Now, let's calculate moleucles in the solvatation box. Firstly let's make ssytem a little bit smaller and solvate the molecule:"
   ]
  },
  {
   "cell_type": "code",
   "execution_count": null,
   "metadata": {
    "collapsed": true
   },
   "outputs": [],
   "source": [
    "gromacs.solvgromacs.editconfnfs.editconf"
   ]
  },
  {
   "cell_type": "code",
   "execution_count": 25,
   "metadata": {
    "collapsed": false,
    "scrolled": true
   },
   "outputs": [],
   "source": [
    "gromacs.grompp(f=\"em.mdp\",c=\"solvbox.gro\",p=\"topol.top\",o=\"em.tpr\")\n",
    "gromacs.mdrun(deffnm=\"em\")\n",
    "gromacs.grompp(f=\"nvt.mdp\",c=\"em.gro\",p=\"topol.top\",o=\"2_nvt.tpr\")\n",
    "gromacs.mdrun(deffnm=\"2_nvt\")\n",
    "gromacs.grompp(f=\"npt.mdp\",c=\"2_nvt.gro\",p=\"topol.top\",o=\"3_npt.tpr\")\n",
    "gromacs.mdrun(deffnm=\"3_npt\")\n",
    "nglview.show_structure_file(\"3_npt.gro\")"
   ]
  },
  {
   "cell_type": "code",
   "execution_count": null,
   "metadata": {
    "collapsed": false,
    "scrolled": true
   },
   "outputs": [],
   "source": [
    "#for lambd in [20]:# range(30):\n",
    "# Equilibration step\n",
    "\n",
    "# Production run\n",
    "#lambd=0  \n",
    "#print(lambd)\n",
    "for lambd in range(41):#range(15,20):\n",
    "    edit_mdp('em_b.mdp', init_lambda_state=lambd)\n",
    "    gromacs.grompp(f=\"em_b.mdp\",c=\"npt.gro\",p=\"topol.top\",o=\"4_em_l\"+str(lambd)+\".tpr\")\n",
    "    gromacs.mdrun(deffnm=\"4_em_l\"+str(lambd), v=True)    \n",
    "\n",
    "    edit_mdp('nvt_b.mdp', init_lambda_state=lambd)\n",
    "    gromacs.grompp(f=\"nvt_b.mdp\",c=\"4_em_l\"+str(lambd)+\".gro\",p=\"topol.top\",o=\"4_nvt_l\"+str(lambd)+\".tpr\")\n",
    "    gromacs.mdrun(deffnm=\"4_nvt_l\"+str(lambd), v=True)\n",
    "\n",
    "    edit_mdp('npt_b.mdp', init_lambda_state=lambd)\n",
    "    gromacs.grompp(f=\"npt_b.mdp\",c=\"4_nvt_l\"+str(lambd)+\".gro\",p=\"topol.top\",o=\"4_npt_l\"+str(lambd)+\".tpr\")\n",
    "    gromacs.mdrun(deffnm=\"4_npt_l\"+str(lambd), v=True)\n",
    "\n",
    "    edit_mdp('run_b.mdp', init_lambda_state=lambd)\n",
    "    gromacs.grompp(f=\"run_b.mdp\",c=\"4_npt_l\"+str(lambd)+\".gro\",p=\"topol.top\",o=\"4_run_l\"+str(lambd)+\".tpr\")\n",
    "    #gromacs.mdrun(deffnm=\"4_run_l\"+str(lambd), v=True)"
   ]
  },
  {
   "cell_type": "code",
   "execution_count": null,
   "metadata": {
    "collapsed": true
   },
   "outputs": [],
   "source": [
    "_, output, _ = gromacs.bar(f=\"4_run_v*.xvg\", o=True,oi=True,stdout=False)\n",
    "print(output)"
   ]
  },
  {
   "cell_type": "markdown",
   "metadata": {},
   "source": [
    "Result for 20 (lambda 0.1) is -20.08kJ/mol (but this is water), Also need to add vacum"
   ]
  }
 ],
 "metadata": {
  "kernelspec": {
   "display_name": "Python 2",
   "language": "python",
   "name": "python2"
  },
  "language_info": {
   "codemirror_mode": {
    "name": "ipython",
    "version": 2
   },
   "file_extension": ".py",
   "mimetype": "text/x-python",
   "name": "python",
   "nbconvert_exporter": "python",
   "pygments_lexer": "ipython2",
   "version": "2.7.15"
  }
 },
 "nbformat": 4,
 "nbformat_minor": 0
}
